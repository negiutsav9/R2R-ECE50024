{
  "nbformat": 4,
  "nbformat_minor": 0,
  "metadata": {
    "colab": {
      "provenance": [],
      "gpuType": "T4"
    },
    "kernelspec": {
      "name": "python3",
      "display_name": "Python 3"
    },
    "language_info": {
      "name": "python"
    }
  },
  "cells": [
    {
      "cell_type": "code",
      "source": [
        "import torch\n",
        "from torchvision.datasets import CIFAR10\n",
        "import torchvision.transforms as tvt"
      ],
      "metadata": {
        "id": "Bqv89M2iSl3L"
      },
      "execution_count": 1,
      "outputs": []
    },
    {
      "cell_type": "code",
      "source": [
        "#class to create Gaussian Noise (referred from https://discuss.pytorch.org/t/how-to-add-noise-to-mnist-dataset-when-using-pytorch/59745)\n",
        "class AddGaussianNoise(object):\n",
        "    def __init__(self, mean=0., std=1.):\n",
        "        self.std = std\n",
        "        self.mean = mean\n",
        "\n",
        "    def __call__(self, tensor):\n",
        "        return tensor + torch.randn(tensor.size()) * self.std + self.mean\n",
        "\n",
        "    def __repr__(self):\n",
        "        return self.__class__.__name__ + '(mean={0}, std={1})'.format(self.mean, self.std)"
      ],
      "metadata": {
        "id": "AK2eQMHZd__P"
      },
      "execution_count": 2,
      "outputs": []
    },
    {
      "cell_type": "code",
      "source": [
        "#class for dataset to create a pair of noisy image and clean image\n",
        "def ImageDataset(CIFAR10):\n",
        "  def __init__(self, root, train=True, transform=None, target_transform=None, download=False):\n",
        "    super(ImageDataset, self).__init__(root, train, transform, target_transform, download)\n",
        "    transform_noise=tvt.Compose([tvt.ToTensor(), tvt.Normalize( (0.4914, 0.4822, 0.4465), (0.247, 0.243, 0.261)), AddGaussianNoise(0., 1.)])\n",
        "    transform_clean=tvt.Compose([tvt.ToTensor(), tvt.Normalize( (0.4914, 0.4822, 0.4465), (0.247, 0.243, 0.261)))\n",
        "  def __getitem__(self, idx):\n",
        "        features, target = super(ImageDataset, self).__getitem__(idx)\n",
        "        noisy_image = transform_noise(features)\n",
        "        clean_iamge = transform_clean(features)\n",
        "        return noisy_image, clean_iamge\n",
        ""
      ],
      "metadata": {
        "id": "7euTqP0FP7OE"
      },
      "execution_count": null,
      "outputs": []
    },
    {
      "cell_type": "code",
      "source": [
        "# dCNN model class used by the paper\n",
        "class dCNN(torch.nn.Module):\n",
        "  def __init__(self, channels, layers=17):\n",
        "    super(dCNN, self).__init__()\n",
        "    self.conv1 = torch.nn.Conv2d(in_channels=channels, out_channels=64, kernel_size=3, padding=1, bias=False)\n",
        "    self.convList = torch.nn.ModuleList()\n",
        "    for i in range(layers-2):\n",
        "      self.convList.append(torch.nn.Conv2d(in_channels=64, out_channels=64, kernel_size=3, padding=1, bias=False))\n",
        "      self.convList.append(torch.nn.BatchNorm2d(64))\n",
        "      self.convList.append(torch.nn.ReLU(inplace=True))\n",
        "    self.conv2 = torch.nn.Conv2d(in_channels=64, out_channels=channels, kernel_size=3, padding=1, bias=False)\n",
        "  def forward(self, x):\n",
        "    x = self.conv1(x)\n",
        "    x = self.convList(torch.nn.functional.relu(x, inplace=True))\n",
        "    x = self.conv2(x)\n",
        "    return x\n"
      ],
      "metadata": {
        "id": "Q8nOKgnfkwtR"
      },
      "execution_count": null,
      "outputs": []
    },
    {
      "cell_type": "code",
      "source": [
        "#training function\n"
      ],
      "metadata": {
        "id": "oEnp8RAcRzF4"
      },
      "execution_count": null,
      "outputs": []
    },
    {
      "cell_type": "code",
      "source": [
        "#function to check PSNR(dB)/SSIM values of the resulted images"
      ],
      "metadata": {
        "id": "NuZEK5z8R2uQ"
      },
      "execution_count": null,
      "outputs": []
    },
    {
      "cell_type": "code",
      "source": [
        "#main pipeline\n",
        "\n",
        "#create dataset object (MNIST, Fashion-MNIST, CIFAR-10)\n",
        "#create dataloader\n",
        "#implement training function\n",
        "#implement function to check PSNR/SSIM values"
      ],
      "metadata": {
        "id": "lcJLA_e0R4D-"
      },
      "execution_count": null,
      "outputs": []
    }
  ]
}